{
  "cells": [
    {
      "cell_type": "markdown",
      "metadata": {
        "id": "view-in-github",
        "colab_type": "text"
      },
      "source": [
        "<a href=\"https://colab.research.google.com/github/jvrjsanchez/EFIA/blob/main/Projeto3.ipynb\" target=\"_parent\"><img src=\"https://colab.research.google.com/assets/colab-badge.svg\" alt=\"Open In Colab\"/></a>"
      ]
    },
    {
      "cell_type": "markdown",
      "metadata": {
        "id": "Cs9uUybchqiu"
      },
      "source": [
        "<!-- Projeto Desenvolvido na Data Science Academy - www.datascienceacademy.com.br -->\n",
        "# <font color='blue'>Data Science Academy</font>\n",
        "## <font color='blue'>Engenharia Financeira com Inteligência Artificial</font>\n",
        "## <font color='blue'>Projeto 3</font>\n",
        "## <font color='blue'>Portfólio de Investimento com Fronteira Eficiente e Otimização Matemática</font>"
      ]
    },
    {
      "cell_type": "markdown",
      "metadata": {
        "id": "ZEa_cYg8aJH7"
      },
      "source": [
        "## Instalando e Carregando Pacotes"
      ]
    },
    {
      "cell_type": "code",
      "execution_count": 1,
      "metadata": {
        "id": "_QEf1thFDElO",
        "outputId": "d7b477fb-56bd-46c1-a220-aa4433bdde68",
        "colab": {
          "base_uri": "https://localhost:8080/"
        }
      },
      "outputs": [
        {
          "output_type": "stream",
          "name": "stdout",
          "text": [
            "\u001b[?25l   \u001b[90m━━━━━━━━━━━━━━━━━━━━━━━━━━━━━━━━━━━━━━━━\u001b[0m \u001b[32m0.0/1.6 MB\u001b[0m \u001b[31m?\u001b[0m eta \u001b[36m-:--:--\u001b[0m\r\u001b[2K   \u001b[91m━━━━━━━━━━━━━━━━━━━\u001b[0m\u001b[90m╺\u001b[0m\u001b[90m━━━━━━━━━━━━━━━━━━━━\u001b[0m \u001b[32m0.7/1.6 MB\u001b[0m \u001b[31m22.0 MB/s\u001b[0m eta \u001b[36m0:00:01\u001b[0m\r\u001b[2K   \u001b[90m━━━━━━━━━━━━━━━━━━━━━━━━━━━━━━━━━━━━━━━━\u001b[0m \u001b[32m1.6/1.6 MB\u001b[0m \u001b[31m25.6 MB/s\u001b[0m eta \u001b[36m0:00:00\u001b[0m\n",
            "\u001b[?25h"
          ]
        }
      ],
      "source": [
        "# Para atualizar um pacote, execute o comando abaixo no terminal ou prompt de comando:\n",
        "# pip install -U nome_pacote\n",
        "\n",
        "# Para instalar a versão exata de um pacote, execute o comando abaixo no terminal ou prompt de comando:\n",
        "# pip install nome_pacote==versão_desejada\n",
        "\n",
        "# Depois de instalar ou atualizar o pacote, reinicie o jupyter notebook.\n",
        "\n",
        "# Instala o pacote watermark.\n",
        "# Esse pacote é usado para gravar as versões de outros pacotes usados neste jupyter notebook.\n",
        "!pip install -q -U watermark"
      ]
    },
    {
      "cell_type": "code",
      "execution_count": 2,
      "metadata": {
        "id": "RB3TPxI2ZPkA"
      },
      "outputs": [],
      "source": [
        "# Instala o pacote\n",
        "#!pip install -q yfinance"
      ]
    },
    {
      "cell_type": "code",
      "execution_count": 3,
      "metadata": {
        "id": "tycaMmtAhCNY"
      },
      "outputs": [],
      "source": [
        "# Imports\n",
        "import scipy\n",
        "import numpy as np\n",
        "import pandas as pd\n",
        "import yfinance as yf\n",
        "import matplotlib.pyplot as plt\n",
        "from scipy.optimize import minimize\n",
        "import warnings\n",
        "warnings.filterwarnings('ignore')"
      ]
    },
    {
      "cell_type": "code",
      "execution_count": 4,
      "metadata": {
        "id": "04drghvqDElP",
        "outputId": "67d40a2f-fc9b-4e25-80f3-03d2d44ebf62",
        "colab": {
          "base_uri": "https://localhost:8080/"
        }
      },
      "outputs": [
        {
          "output_type": "stream",
          "name": "stdout",
          "text": [
            "Author: Data Science Academy\n",
            "\n"
          ]
        }
      ],
      "source": [
        "%reload_ext watermark\n",
        "%watermark -a \"Data Science Academy\""
      ]
    },
    {
      "cell_type": "markdown",
      "metadata": {
        "id": "Wu-tHq2EZGUZ"
      },
      "source": [
        "## Definindo os Ativos Financeiros Para o Portfólio"
      ]
    },
    {
      "cell_type": "code",
      "execution_count": 5,
      "metadata": {
        "colab": {
          "base_uri": "https://localhost:8080/"
        },
        "id": "M5tz7lUrZeCZ",
        "outputId": "ee815224-c5f2-4fdf-a708-0eedc893ca2e"
      },
      "outputs": [
        {
          "output_type": "stream",
          "name": "stderr",
          "text": [
            "[*********************100%***********************]  10 of 10 completed\n"
          ]
        }
      ],
      "source": [
        "# Define os assets e faz o download dos dados\n",
        "df_dsa = yf.download(['NVDA',\n",
        "                      'AMZN',\n",
        "                      'GOOGL',\n",
        "                      'AMD',\n",
        "                      'MSFT',\n",
        "                      'AAPL',\n",
        "                      'TSLA',\n",
        "                      'SONY',\n",
        "                      'META',\n",
        "                      'NFLX'],\n",
        "                     start = '2024-01-01', end = '2024-03-31')"
      ]
    },
    {
      "cell_type": "code",
      "execution_count": 6,
      "metadata": {
        "id": "7Vjz2wH-DElQ"
      },
      "outputs": [],
      "source": [
        "# Separa a coluna com o valor de fechamento\n",
        "df_dsa = df_dsa['Close']"
      ]
    },
    {
      "cell_type": "code",
      "execution_count": 7,
      "metadata": {
        "id": "miqxLWgUDElQ",
        "outputId": "f0300f7f-c874-44d2-b371-3ba80f7d1e70",
        "colab": {
          "base_uri": "https://localhost:8080/"
        }
      },
      "outputs": [
        {
          "output_type": "execute_result",
          "data": {
            "text/plain": [
              "(61, 10)"
            ]
          },
          "metadata": {},
          "execution_count": 7
        }
      ],
      "source": [
        "# Shape\n",
        "df_dsa.shape"
      ]
    },
    {
      "cell_type": "code",
      "execution_count": 8,
      "metadata": {
        "id": "q6GAr1U5DElQ",
        "outputId": "02d0098c-59ff-40b1-dba3-e27be38bc561",
        "colab": {
          "base_uri": "https://localhost:8080/",
          "height": 238
        }
      },
      "outputs": [
        {
          "output_type": "execute_result",
          "data": {
            "text/plain": [
              "Ticker            AAPL         AMD        AMZN       GOOGL        META  \\\n",
              "Date                                                                     \n",
              "2024-01-02  184.081497  138.580002  149.929993  137.223541  344.168335   \n",
              "2024-01-03  182.703171  135.320007  148.470001  137.968414  342.359467   \n",
              "2024-01-04  180.382843  136.009995  144.570007  135.455734  344.993164   \n",
              "2024-01-05  179.658920  138.580002  145.240005  134.800247  349.793671   \n",
              "2024-01-08  184.002151  146.179993  149.100006  137.888962  356.462494   \n",
              "\n",
              "Ticker            MSFT        NFLX       NVDA       SONY        TSLA  \n",
              "Date                                                                  \n",
              "2024-01-02  366.105530  468.500000  48.143856  18.482323  248.419998  \n",
              "2024-01-03  365.839020  470.260010  47.545158  18.300076  238.449997  \n",
              "2024-01-04  363.213196  474.670013  47.973946  18.036606  237.929993  \n",
              "2024-01-05  363.025635  474.059998  49.072388  18.070284  237.490005  \n",
              "2024-01-08  369.876465  485.029999  52.226810  18.304037  240.449997  "
            ],
            "text/html": [
              "\n",
              "  <div id=\"df-12416d15-5416-46db-b458-3d353b14a2ca\" class=\"colab-df-container\">\n",
              "    <div>\n",
              "<style scoped>\n",
              "    .dataframe tbody tr th:only-of-type {\n",
              "        vertical-align: middle;\n",
              "    }\n",
              "\n",
              "    .dataframe tbody tr th {\n",
              "        vertical-align: top;\n",
              "    }\n",
              "\n",
              "    .dataframe thead th {\n",
              "        text-align: right;\n",
              "    }\n",
              "</style>\n",
              "<table border=\"1\" class=\"dataframe\">\n",
              "  <thead>\n",
              "    <tr style=\"text-align: right;\">\n",
              "      <th>Ticker</th>\n",
              "      <th>AAPL</th>\n",
              "      <th>AMD</th>\n",
              "      <th>AMZN</th>\n",
              "      <th>GOOGL</th>\n",
              "      <th>META</th>\n",
              "      <th>MSFT</th>\n",
              "      <th>NFLX</th>\n",
              "      <th>NVDA</th>\n",
              "      <th>SONY</th>\n",
              "      <th>TSLA</th>\n",
              "    </tr>\n",
              "    <tr>\n",
              "      <th>Date</th>\n",
              "      <th></th>\n",
              "      <th></th>\n",
              "      <th></th>\n",
              "      <th></th>\n",
              "      <th></th>\n",
              "      <th></th>\n",
              "      <th></th>\n",
              "      <th></th>\n",
              "      <th></th>\n",
              "      <th></th>\n",
              "    </tr>\n",
              "  </thead>\n",
              "  <tbody>\n",
              "    <tr>\n",
              "      <th>2024-01-02</th>\n",
              "      <td>184.081497</td>\n",
              "      <td>138.580002</td>\n",
              "      <td>149.929993</td>\n",
              "      <td>137.223541</td>\n",
              "      <td>344.168335</td>\n",
              "      <td>366.105530</td>\n",
              "      <td>468.500000</td>\n",
              "      <td>48.143856</td>\n",
              "      <td>18.482323</td>\n",
              "      <td>248.419998</td>\n",
              "    </tr>\n",
              "    <tr>\n",
              "      <th>2024-01-03</th>\n",
              "      <td>182.703171</td>\n",
              "      <td>135.320007</td>\n",
              "      <td>148.470001</td>\n",
              "      <td>137.968414</td>\n",
              "      <td>342.359467</td>\n",
              "      <td>365.839020</td>\n",
              "      <td>470.260010</td>\n",
              "      <td>47.545158</td>\n",
              "      <td>18.300076</td>\n",
              "      <td>238.449997</td>\n",
              "    </tr>\n",
              "    <tr>\n",
              "      <th>2024-01-04</th>\n",
              "      <td>180.382843</td>\n",
              "      <td>136.009995</td>\n",
              "      <td>144.570007</td>\n",
              "      <td>135.455734</td>\n",
              "      <td>344.993164</td>\n",
              "      <td>363.213196</td>\n",
              "      <td>474.670013</td>\n",
              "      <td>47.973946</td>\n",
              "      <td>18.036606</td>\n",
              "      <td>237.929993</td>\n",
              "    </tr>\n",
              "    <tr>\n",
              "      <th>2024-01-05</th>\n",
              "      <td>179.658920</td>\n",
              "      <td>138.580002</td>\n",
              "      <td>145.240005</td>\n",
              "      <td>134.800247</td>\n",
              "      <td>349.793671</td>\n",
              "      <td>363.025635</td>\n",
              "      <td>474.059998</td>\n",
              "      <td>49.072388</td>\n",
              "      <td>18.070284</td>\n",
              "      <td>237.490005</td>\n",
              "    </tr>\n",
              "    <tr>\n",
              "      <th>2024-01-08</th>\n",
              "      <td>184.002151</td>\n",
              "      <td>146.179993</td>\n",
              "      <td>149.100006</td>\n",
              "      <td>137.888962</td>\n",
              "      <td>356.462494</td>\n",
              "      <td>369.876465</td>\n",
              "      <td>485.029999</td>\n",
              "      <td>52.226810</td>\n",
              "      <td>18.304037</td>\n",
              "      <td>240.449997</td>\n",
              "    </tr>\n",
              "  </tbody>\n",
              "</table>\n",
              "</div>\n",
              "    <div class=\"colab-df-buttons\">\n",
              "\n",
              "  <div class=\"colab-df-container\">\n",
              "    <button class=\"colab-df-convert\" onclick=\"convertToInteractive('df-12416d15-5416-46db-b458-3d353b14a2ca')\"\n",
              "            title=\"Convert this dataframe to an interactive table.\"\n",
              "            style=\"display:none;\">\n",
              "\n",
              "  <svg xmlns=\"http://www.w3.org/2000/svg\" height=\"24px\" viewBox=\"0 -960 960 960\">\n",
              "    <path d=\"M120-120v-720h720v720H120Zm60-500h600v-160H180v160Zm220 220h160v-160H400v160Zm0 220h160v-160H400v160ZM180-400h160v-160H180v160Zm440 0h160v-160H620v160ZM180-180h160v-160H180v160Zm440 0h160v-160H620v160Z\"/>\n",
              "  </svg>\n",
              "    </button>\n",
              "\n",
              "  <style>\n",
              "    .colab-df-container {\n",
              "      display:flex;\n",
              "      gap: 12px;\n",
              "    }\n",
              "\n",
              "    .colab-df-convert {\n",
              "      background-color: #E8F0FE;\n",
              "      border: none;\n",
              "      border-radius: 50%;\n",
              "      cursor: pointer;\n",
              "      display: none;\n",
              "      fill: #1967D2;\n",
              "      height: 32px;\n",
              "      padding: 0 0 0 0;\n",
              "      width: 32px;\n",
              "    }\n",
              "\n",
              "    .colab-df-convert:hover {\n",
              "      background-color: #E2EBFA;\n",
              "      box-shadow: 0px 1px 2px rgba(60, 64, 67, 0.3), 0px 1px 3px 1px rgba(60, 64, 67, 0.15);\n",
              "      fill: #174EA6;\n",
              "    }\n",
              "\n",
              "    .colab-df-buttons div {\n",
              "      margin-bottom: 4px;\n",
              "    }\n",
              "\n",
              "    [theme=dark] .colab-df-convert {\n",
              "      background-color: #3B4455;\n",
              "      fill: #D2E3FC;\n",
              "    }\n",
              "\n",
              "    [theme=dark] .colab-df-convert:hover {\n",
              "      background-color: #434B5C;\n",
              "      box-shadow: 0px 1px 3px 1px rgba(0, 0, 0, 0.15);\n",
              "      filter: drop-shadow(0px 1px 2px rgba(0, 0, 0, 0.3));\n",
              "      fill: #FFFFFF;\n",
              "    }\n",
              "  </style>\n",
              "\n",
              "    <script>\n",
              "      const buttonEl =\n",
              "        document.querySelector('#df-12416d15-5416-46db-b458-3d353b14a2ca button.colab-df-convert');\n",
              "      buttonEl.style.display =\n",
              "        google.colab.kernel.accessAllowed ? 'block' : 'none';\n",
              "\n",
              "      async function convertToInteractive(key) {\n",
              "        const element = document.querySelector('#df-12416d15-5416-46db-b458-3d353b14a2ca');\n",
              "        const dataTable =\n",
              "          await google.colab.kernel.invokeFunction('convertToInteractive',\n",
              "                                                    [key], {});\n",
              "        if (!dataTable) return;\n",
              "\n",
              "        const docLinkHtml = 'Like what you see? Visit the ' +\n",
              "          '<a target=\"_blank\" href=https://colab.research.google.com/notebooks/data_table.ipynb>data table notebook</a>'\n",
              "          + ' to learn more about interactive tables.';\n",
              "        element.innerHTML = '';\n",
              "        dataTable['output_type'] = 'display_data';\n",
              "        await google.colab.output.renderOutput(dataTable, element);\n",
              "        const docLink = document.createElement('div');\n",
              "        docLink.innerHTML = docLinkHtml;\n",
              "        element.appendChild(docLink);\n",
              "      }\n",
              "    </script>\n",
              "  </div>\n",
              "\n",
              "\n",
              "    <div id=\"df-cd239515-e944-4ce2-abd7-3b7f36981179\">\n",
              "      <button class=\"colab-df-quickchart\" onclick=\"quickchart('df-cd239515-e944-4ce2-abd7-3b7f36981179')\"\n",
              "                title=\"Suggest charts\"\n",
              "                style=\"display:none;\">\n",
              "\n",
              "<svg xmlns=\"http://www.w3.org/2000/svg\" height=\"24px\"viewBox=\"0 0 24 24\"\n",
              "     width=\"24px\">\n",
              "    <g>\n",
              "        <path d=\"M19 3H5c-1.1 0-2 .9-2 2v14c0 1.1.9 2 2 2h14c1.1 0 2-.9 2-2V5c0-1.1-.9-2-2-2zM9 17H7v-7h2v7zm4 0h-2V7h2v10zm4 0h-2v-4h2v4z\"/>\n",
              "    </g>\n",
              "</svg>\n",
              "      </button>\n",
              "\n",
              "<style>\n",
              "  .colab-df-quickchart {\n",
              "      --bg-color: #E8F0FE;\n",
              "      --fill-color: #1967D2;\n",
              "      --hover-bg-color: #E2EBFA;\n",
              "      --hover-fill-color: #174EA6;\n",
              "      --disabled-fill-color: #AAA;\n",
              "      --disabled-bg-color: #DDD;\n",
              "  }\n",
              "\n",
              "  [theme=dark] .colab-df-quickchart {\n",
              "      --bg-color: #3B4455;\n",
              "      --fill-color: #D2E3FC;\n",
              "      --hover-bg-color: #434B5C;\n",
              "      --hover-fill-color: #FFFFFF;\n",
              "      --disabled-bg-color: #3B4455;\n",
              "      --disabled-fill-color: #666;\n",
              "  }\n",
              "\n",
              "  .colab-df-quickchart {\n",
              "    background-color: var(--bg-color);\n",
              "    border: none;\n",
              "    border-radius: 50%;\n",
              "    cursor: pointer;\n",
              "    display: none;\n",
              "    fill: var(--fill-color);\n",
              "    height: 32px;\n",
              "    padding: 0;\n",
              "    width: 32px;\n",
              "  }\n",
              "\n",
              "  .colab-df-quickchart:hover {\n",
              "    background-color: var(--hover-bg-color);\n",
              "    box-shadow: 0 1px 2px rgba(60, 64, 67, 0.3), 0 1px 3px 1px rgba(60, 64, 67, 0.15);\n",
              "    fill: var(--button-hover-fill-color);\n",
              "  }\n",
              "\n",
              "  .colab-df-quickchart-complete:disabled,\n",
              "  .colab-df-quickchart-complete:disabled:hover {\n",
              "    background-color: var(--disabled-bg-color);\n",
              "    fill: var(--disabled-fill-color);\n",
              "    box-shadow: none;\n",
              "  }\n",
              "\n",
              "  .colab-df-spinner {\n",
              "    border: 2px solid var(--fill-color);\n",
              "    border-color: transparent;\n",
              "    border-bottom-color: var(--fill-color);\n",
              "    animation:\n",
              "      spin 1s steps(1) infinite;\n",
              "  }\n",
              "\n",
              "  @keyframes spin {\n",
              "    0% {\n",
              "      border-color: transparent;\n",
              "      border-bottom-color: var(--fill-color);\n",
              "      border-left-color: var(--fill-color);\n",
              "    }\n",
              "    20% {\n",
              "      border-color: transparent;\n",
              "      border-left-color: var(--fill-color);\n",
              "      border-top-color: var(--fill-color);\n",
              "    }\n",
              "    30% {\n",
              "      border-color: transparent;\n",
              "      border-left-color: var(--fill-color);\n",
              "      border-top-color: var(--fill-color);\n",
              "      border-right-color: var(--fill-color);\n",
              "    }\n",
              "    40% {\n",
              "      border-color: transparent;\n",
              "      border-right-color: var(--fill-color);\n",
              "      border-top-color: var(--fill-color);\n",
              "    }\n",
              "    60% {\n",
              "      border-color: transparent;\n",
              "      border-right-color: var(--fill-color);\n",
              "    }\n",
              "    80% {\n",
              "      border-color: transparent;\n",
              "      border-right-color: var(--fill-color);\n",
              "      border-bottom-color: var(--fill-color);\n",
              "    }\n",
              "    90% {\n",
              "      border-color: transparent;\n",
              "      border-bottom-color: var(--fill-color);\n",
              "    }\n",
              "  }\n",
              "</style>\n",
              "\n",
              "      <script>\n",
              "        async function quickchart(key) {\n",
              "          const quickchartButtonEl =\n",
              "            document.querySelector('#' + key + ' button');\n",
              "          quickchartButtonEl.disabled = true;  // To prevent multiple clicks.\n",
              "          quickchartButtonEl.classList.add('colab-df-spinner');\n",
              "          try {\n",
              "            const charts = await google.colab.kernel.invokeFunction(\n",
              "                'suggestCharts', [key], {});\n",
              "          } catch (error) {\n",
              "            console.error('Error during call to suggestCharts:', error);\n",
              "          }\n",
              "          quickchartButtonEl.classList.remove('colab-df-spinner');\n",
              "          quickchartButtonEl.classList.add('colab-df-quickchart-complete');\n",
              "        }\n",
              "        (() => {\n",
              "          let quickchartButtonEl =\n",
              "            document.querySelector('#df-cd239515-e944-4ce2-abd7-3b7f36981179 button');\n",
              "          quickchartButtonEl.style.display =\n",
              "            google.colab.kernel.accessAllowed ? 'block' : 'none';\n",
              "        })();\n",
              "      </script>\n",
              "    </div>\n",
              "\n",
              "    </div>\n",
              "  </div>\n"
            ],
            "application/vnd.google.colaboratory.intrinsic+json": {
              "type": "dataframe",
              "variable_name": "df_dsa",
              "summary": "{\n  \"name\": \"df_dsa\",\n  \"rows\": 61,\n  \"fields\": [\n    {\n      \"column\": \"Date\",\n      \"properties\": {\n        \"dtype\": \"date\",\n        \"min\": \"2024-01-02 00:00:00\",\n        \"max\": \"2024-03-28 00:00:00\",\n        \"num_unique_values\": 61,\n        \"samples\": [\n          \"2024-01-02 00:00:00\",\n          \"2024-01-09 00:00:00\",\n          \"2024-03-08 00:00:00\"\n        ],\n        \"semantic_type\": \"\",\n        \"description\": \"\"\n      }\n    },\n    {\n      \"column\": \"AAPL\",\n      \"properties\": {\n        \"dtype\": \"number\",\n        \"std\": 7.274067316947618,\n        \"min\": 167.7950439453125,\n        \"max\": 193.54141235351562,\n        \"num_unique_values\": 61,\n        \"samples\": [\n          184.0814971923828,\n          183.585693359375,\n          169.51271057128906\n        ],\n        \"semantic_type\": \"\",\n        \"description\": \"\"\n      }\n    },\n    {\n      \"column\": \"AMD\",\n      \"properties\": {\n        \"dtype\": \"number\",\n        \"std\": 18.177252986248423,\n        \"min\": 135.32000732421875,\n        \"max\": 211.3800048828125,\n        \"num_unique_values\": 59,\n        \"samples\": [\n          138.5800018310547,\n          148.5399932861328,\n          176.52000427246094\n        ],\n        \"semantic_type\": \"\",\n        \"description\": \"\"\n      }\n    },\n    {\n      \"column\": \"AMZN\",\n      \"properties\": {\n        \"dtype\": \"number\",\n        \"std\": 10.625351608002399,\n        \"min\": 144.57000732421875,\n        \"max\": 180.3800048828125,\n        \"num_unique_values\": 60,\n        \"samples\": [\n          149.92999267578125,\n          151.3699951171875,\n          174.99000549316406\n        ],\n        \"semantic_type\": \"\",\n        \"description\": \"\"\n      }\n    },\n    {\n      \"column\": \"GOOGL\",\n      \"properties\": {\n        \"dtype\": \"number\",\n        \"std\": 5.359264291631482,\n        \"min\": 130.4999237060547,\n        \"max\": 152.45846557617188,\n        \"num_unique_values\": 61,\n        \"samples\": [\n          137.22354125976562,\n          139.98452758789062,\n          134.4824676513672\n        ],\n        \"semantic_type\": \"\",\n        \"description\": \"\"\n      }\n    },\n    {\n      \"column\": \"META\",\n      \"properties\": {\n        \"dtype\": \"number\",\n        \"std\": 56.11668410436144,\n        \"min\": 342.3594665527344,\n        \"max\": 509.59197998046875,\n        \"num_unique_values\": 61,\n        \"samples\": [\n          344.1683349609375,\n          355.2400817871094,\n          503.3836364746094\n        ],\n        \"semantic_type\": \"\",\n        \"description\": \"\"\n      }\n    },\n    {\n      \"column\": \"MSFT\",\n      \"properties\": {\n        \"dtype\": \"number\",\n        \"std\": 15.168748486391653,\n        \"min\": 363.025634765625,\n        \"max\": 424.6378173828125,\n        \"num_unique_values\": 61,\n        \"samples\": [\n          366.10552978515625,\n          370.9623107910156,\n          401.74298095703125\n        ],\n        \"semantic_type\": \"\",\n        \"description\": \"\"\n      }\n    },\n    {\n      \"column\": \"NFLX\",\n      \"properties\": {\n        \"dtype\": \"number\",\n        \"std\": 52.03311797832157,\n        \"min\": 468.5,\n        \"max\": 629.239990234375,\n        \"num_unique_values\": 61,\n        \"samples\": [\n          468.5,\n          482.0899963378906,\n          604.8200073242188\n        ],\n        \"semantic_type\": \"\",\n        \"description\": \"\"\n      }\n    },\n    {\n      \"column\": \"NVDA\",\n      \"properties\": {\n        \"dtype\": \"number\",\n        \"std\": 14.38637536788383,\n        \"min\": 47.54515838623047,\n        \"max\": 94.95884704589844,\n        \"num_unique_values\": 61,\n        \"samples\": [\n          48.143856048583984,\n          53.11336898803711,\n          87.48824310302734\n        ],\n        \"semantic_type\": \"\",\n        \"description\": \"\"\n      }\n    },\n    {\n      \"column\": \"SONY\",\n      \"properties\": {\n        \"dtype\": \"number\",\n        \"std\": 0.9743987972888042,\n        \"min\": 16.869823455810547,\n        \"max\": 19.760040283203125,\n        \"num_unique_values\": 61,\n        \"samples\": [\n          18.482322692871094,\n          18.24658966064453,\n          17.275920867919922\n        ],\n        \"semantic_type\": \"\",\n        \"description\": \"\"\n      }\n    },\n    {\n      \"column\": \"TSLA\",\n      \"properties\": {\n        \"dtype\": \"number\",\n        \"std\": 21.240886698554338,\n        \"min\": 162.5,\n        \"max\": 248.4199981689453,\n        \"num_unique_values\": 61,\n        \"samples\": [\n          248.4199981689453,\n          234.9600067138672,\n          175.33999633789062\n        ],\n        \"semantic_type\": \"\",\n        \"description\": \"\"\n      }\n    }\n  ]\n}"
            }
          },
          "metadata": {},
          "execution_count": 8
        }
      ],
      "source": [
        "# Amostra dos dados\n",
        "df_dsa.head()"
      ]
    },
    {
      "cell_type": "markdown",
      "metadata": {
        "id": "cYNmvCWAZt-N"
      },
      "source": [
        "## Calculando a Variação Percentual"
      ]
    },
    {
      "cell_type": "code",
      "execution_count": 9,
      "metadata": {
        "id": "wtcv3N3VZsMM"
      },
      "outputs": [],
      "source": [
        "# Calcula os retornos\n",
        "retornos = df_dsa.pct_change()"
      ]
    },
    {
      "cell_type": "markdown",
      "metadata": {
        "id": "n0XQTsfpDElR"
      },
      "source": [
        "O método pct_change() calcula a variação percentual entre o elemento atual e o anterior em cada coluna. Por padrão, o cálculo é feito linha a linha (ou seja, ao longo do eixo 0). O primeiro elemento de cada coluna resulta em NaN (Not a Number), pois não há um valor anterior para calcular a variação percentual.\n",
        "\n",
        "No contexto de análise financeira, essa operação é frequentemente usada para calcular os retornos diários, mensais ou anuais de ativos, como ações ou criptomoedas, a partir de seus preços históricos. Os retornos calculados são úteis para várias análises, incluindo avaliação de desempenho de investimentos, modelagem de risco e otimização de portfólios."
      ]
    },
    {
      "cell_type": "code",
      "execution_count": 10,
      "metadata": {
        "id": "8BnW0DE_DElR"
      },
      "outputs": [],
      "source": [
        "# Drop de valores na\n",
        "retornos = retornos.dropna()"
      ]
    },
    {
      "cell_type": "code",
      "execution_count": 11,
      "metadata": {
        "id": "DhosqXiiDElR",
        "outputId": "34589f16-0055-40b8-9587-4ee0ade2dfe8",
        "colab": {
          "base_uri": "https://localhost:8080/",
          "height": 238
        }
      },
      "outputs": [
        {
          "output_type": "execute_result",
          "data": {
            "text/plain": [
              "Ticker          AAPL       AMD      AMZN     GOOGL      META      MSFT  \\\n",
              "Date                                                                     \n",
              "2024-03-22  0.005310  0.005429  0.004042  0.021477  0.003584 -0.001467   \n",
              "2024-03-25 -0.008300 -0.005678  0.004696 -0.004643 -0.012873 -0.013715   \n",
              "2024-03-26 -0.006673 -0.004255 -0.007846  0.003998 -0.014174 -0.002862   \n",
              "2024-03-27  0.021213  0.009670  0.008581  0.001327 -0.004094 -0.000522   \n",
              "2024-03-28 -0.010559  0.005011  0.003058  0.000398 -0.016766 -0.001685   \n",
              "\n",
              "Ticker          NFLX      NVDA      SONY      TSLA  \n",
              "Date                                                \n",
              "2024-03-22  0.008511  0.031213 -0.001127 -0.011515  \n",
              "2024-03-25 -0.000876  0.007562 -0.030016  0.010537  \n",
              "2024-03-26  0.002837 -0.025694  0.008841  0.029195  \n",
              "2024-03-27 -0.024967 -0.024967  0.001238  0.012157  \n",
              "2024-03-28 -0.010105  0.001174 -0.009244 -0.022466  "
            ],
            "text/html": [
              "\n",
              "  <div id=\"df-f4d9e8f0-7833-45c2-9c06-1ab88daf94e5\" class=\"colab-df-container\">\n",
              "    <div>\n",
              "<style scoped>\n",
              "    .dataframe tbody tr th:only-of-type {\n",
              "        vertical-align: middle;\n",
              "    }\n",
              "\n",
              "    .dataframe tbody tr th {\n",
              "        vertical-align: top;\n",
              "    }\n",
              "\n",
              "    .dataframe thead th {\n",
              "        text-align: right;\n",
              "    }\n",
              "</style>\n",
              "<table border=\"1\" class=\"dataframe\">\n",
              "  <thead>\n",
              "    <tr style=\"text-align: right;\">\n",
              "      <th>Ticker</th>\n",
              "      <th>AAPL</th>\n",
              "      <th>AMD</th>\n",
              "      <th>AMZN</th>\n",
              "      <th>GOOGL</th>\n",
              "      <th>META</th>\n",
              "      <th>MSFT</th>\n",
              "      <th>NFLX</th>\n",
              "      <th>NVDA</th>\n",
              "      <th>SONY</th>\n",
              "      <th>TSLA</th>\n",
              "    </tr>\n",
              "    <tr>\n",
              "      <th>Date</th>\n",
              "      <th></th>\n",
              "      <th></th>\n",
              "      <th></th>\n",
              "      <th></th>\n",
              "      <th></th>\n",
              "      <th></th>\n",
              "      <th></th>\n",
              "      <th></th>\n",
              "      <th></th>\n",
              "      <th></th>\n",
              "    </tr>\n",
              "  </thead>\n",
              "  <tbody>\n",
              "    <tr>\n",
              "      <th>2024-03-22</th>\n",
              "      <td>0.005310</td>\n",
              "      <td>0.005429</td>\n",
              "      <td>0.004042</td>\n",
              "      <td>0.021477</td>\n",
              "      <td>0.003584</td>\n",
              "      <td>-0.001467</td>\n",
              "      <td>0.008511</td>\n",
              "      <td>0.031213</td>\n",
              "      <td>-0.001127</td>\n",
              "      <td>-0.011515</td>\n",
              "    </tr>\n",
              "    <tr>\n",
              "      <th>2024-03-25</th>\n",
              "      <td>-0.008300</td>\n",
              "      <td>-0.005678</td>\n",
              "      <td>0.004696</td>\n",
              "      <td>-0.004643</td>\n",
              "      <td>-0.012873</td>\n",
              "      <td>-0.013715</td>\n",
              "      <td>-0.000876</td>\n",
              "      <td>0.007562</td>\n",
              "      <td>-0.030016</td>\n",
              "      <td>0.010537</td>\n",
              "    </tr>\n",
              "    <tr>\n",
              "      <th>2024-03-26</th>\n",
              "      <td>-0.006673</td>\n",
              "      <td>-0.004255</td>\n",
              "      <td>-0.007846</td>\n",
              "      <td>0.003998</td>\n",
              "      <td>-0.014174</td>\n",
              "      <td>-0.002862</td>\n",
              "      <td>0.002837</td>\n",
              "      <td>-0.025694</td>\n",
              "      <td>0.008841</td>\n",
              "      <td>0.029195</td>\n",
              "    </tr>\n",
              "    <tr>\n",
              "      <th>2024-03-27</th>\n",
              "      <td>0.021213</td>\n",
              "      <td>0.009670</td>\n",
              "      <td>0.008581</td>\n",
              "      <td>0.001327</td>\n",
              "      <td>-0.004094</td>\n",
              "      <td>-0.000522</td>\n",
              "      <td>-0.024967</td>\n",
              "      <td>-0.024967</td>\n",
              "      <td>0.001238</td>\n",
              "      <td>0.012157</td>\n",
              "    </tr>\n",
              "    <tr>\n",
              "      <th>2024-03-28</th>\n",
              "      <td>-0.010559</td>\n",
              "      <td>0.005011</td>\n",
              "      <td>0.003058</td>\n",
              "      <td>0.000398</td>\n",
              "      <td>-0.016766</td>\n",
              "      <td>-0.001685</td>\n",
              "      <td>-0.010105</td>\n",
              "      <td>0.001174</td>\n",
              "      <td>-0.009244</td>\n",
              "      <td>-0.022466</td>\n",
              "    </tr>\n",
              "  </tbody>\n",
              "</table>\n",
              "</div>\n",
              "    <div class=\"colab-df-buttons\">\n",
              "\n",
              "  <div class=\"colab-df-container\">\n",
              "    <button class=\"colab-df-convert\" onclick=\"convertToInteractive('df-f4d9e8f0-7833-45c2-9c06-1ab88daf94e5')\"\n",
              "            title=\"Convert this dataframe to an interactive table.\"\n",
              "            style=\"display:none;\">\n",
              "\n",
              "  <svg xmlns=\"http://www.w3.org/2000/svg\" height=\"24px\" viewBox=\"0 -960 960 960\">\n",
              "    <path d=\"M120-120v-720h720v720H120Zm60-500h600v-160H180v160Zm220 220h160v-160H400v160Zm0 220h160v-160H400v160ZM180-400h160v-160H180v160Zm440 0h160v-160H620v160ZM180-180h160v-160H180v160Zm440 0h160v-160H620v160Z\"/>\n",
              "  </svg>\n",
              "    </button>\n",
              "\n",
              "  <style>\n",
              "    .colab-df-container {\n",
              "      display:flex;\n",
              "      gap: 12px;\n",
              "    }\n",
              "\n",
              "    .colab-df-convert {\n",
              "      background-color: #E8F0FE;\n",
              "      border: none;\n",
              "      border-radius: 50%;\n",
              "      cursor: pointer;\n",
              "      display: none;\n",
              "      fill: #1967D2;\n",
              "      height: 32px;\n",
              "      padding: 0 0 0 0;\n",
              "      width: 32px;\n",
              "    }\n",
              "\n",
              "    .colab-df-convert:hover {\n",
              "      background-color: #E2EBFA;\n",
              "      box-shadow: 0px 1px 2px rgba(60, 64, 67, 0.3), 0px 1px 3px 1px rgba(60, 64, 67, 0.15);\n",
              "      fill: #174EA6;\n",
              "    }\n",
              "\n",
              "    .colab-df-buttons div {\n",
              "      margin-bottom: 4px;\n",
              "    }\n",
              "\n",
              "    [theme=dark] .colab-df-convert {\n",
              "      background-color: #3B4455;\n",
              "      fill: #D2E3FC;\n",
              "    }\n",
              "\n",
              "    [theme=dark] .colab-df-convert:hover {\n",
              "      background-color: #434B5C;\n",
              "      box-shadow: 0px 1px 3px 1px rgba(0, 0, 0, 0.15);\n",
              "      filter: drop-shadow(0px 1px 2px rgba(0, 0, 0, 0.3));\n",
              "      fill: #FFFFFF;\n",
              "    }\n",
              "  </style>\n",
              "\n",
              "    <script>\n",
              "      const buttonEl =\n",
              "        document.querySelector('#df-f4d9e8f0-7833-45c2-9c06-1ab88daf94e5 button.colab-df-convert');\n",
              "      buttonEl.style.display =\n",
              "        google.colab.kernel.accessAllowed ? 'block' : 'none';\n",
              "\n",
              "      async function convertToInteractive(key) {\n",
              "        const element = document.querySelector('#df-f4d9e8f0-7833-45c2-9c06-1ab88daf94e5');\n",
              "        const dataTable =\n",
              "          await google.colab.kernel.invokeFunction('convertToInteractive',\n",
              "                                                    [key], {});\n",
              "        if (!dataTable) return;\n",
              "\n",
              "        const docLinkHtml = 'Like what you see? Visit the ' +\n",
              "          '<a target=\"_blank\" href=https://colab.research.google.com/notebooks/data_table.ipynb>data table notebook</a>'\n",
              "          + ' to learn more about interactive tables.';\n",
              "        element.innerHTML = '';\n",
              "        dataTable['output_type'] = 'display_data';\n",
              "        await google.colab.output.renderOutput(dataTable, element);\n",
              "        const docLink = document.createElement('div');\n",
              "        docLink.innerHTML = docLinkHtml;\n",
              "        element.appendChild(docLink);\n",
              "      }\n",
              "    </script>\n",
              "  </div>\n",
              "\n",
              "\n",
              "    <div id=\"df-583a55e0-12f7-4457-a755-3df070b16edf\">\n",
              "      <button class=\"colab-df-quickchart\" onclick=\"quickchart('df-583a55e0-12f7-4457-a755-3df070b16edf')\"\n",
              "                title=\"Suggest charts\"\n",
              "                style=\"display:none;\">\n",
              "\n",
              "<svg xmlns=\"http://www.w3.org/2000/svg\" height=\"24px\"viewBox=\"0 0 24 24\"\n",
              "     width=\"24px\">\n",
              "    <g>\n",
              "        <path d=\"M19 3H5c-1.1 0-2 .9-2 2v14c0 1.1.9 2 2 2h14c1.1 0 2-.9 2-2V5c0-1.1-.9-2-2-2zM9 17H7v-7h2v7zm4 0h-2V7h2v10zm4 0h-2v-4h2v4z\"/>\n",
              "    </g>\n",
              "</svg>\n",
              "      </button>\n",
              "\n",
              "<style>\n",
              "  .colab-df-quickchart {\n",
              "      --bg-color: #E8F0FE;\n",
              "      --fill-color: #1967D2;\n",
              "      --hover-bg-color: #E2EBFA;\n",
              "      --hover-fill-color: #174EA6;\n",
              "      --disabled-fill-color: #AAA;\n",
              "      --disabled-bg-color: #DDD;\n",
              "  }\n",
              "\n",
              "  [theme=dark] .colab-df-quickchart {\n",
              "      --bg-color: #3B4455;\n",
              "      --fill-color: #D2E3FC;\n",
              "      --hover-bg-color: #434B5C;\n",
              "      --hover-fill-color: #FFFFFF;\n",
              "      --disabled-bg-color: #3B4455;\n",
              "      --disabled-fill-color: #666;\n",
              "  }\n",
              "\n",
              "  .colab-df-quickchart {\n",
              "    background-color: var(--bg-color);\n",
              "    border: none;\n",
              "    border-radius: 50%;\n",
              "    cursor: pointer;\n",
              "    display: none;\n",
              "    fill: var(--fill-color);\n",
              "    height: 32px;\n",
              "    padding: 0;\n",
              "    width: 32px;\n",
              "  }\n",
              "\n",
              "  .colab-df-quickchart:hover {\n",
              "    background-color: var(--hover-bg-color);\n",
              "    box-shadow: 0 1px 2px rgba(60, 64, 67, 0.3), 0 1px 3px 1px rgba(60, 64, 67, 0.15);\n",
              "    fill: var(--button-hover-fill-color);\n",
              "  }\n",
              "\n",
              "  .colab-df-quickchart-complete:disabled,\n",
              "  .colab-df-quickchart-complete:disabled:hover {\n",
              "    background-color: var(--disabled-bg-color);\n",
              "    fill: var(--disabled-fill-color);\n",
              "    box-shadow: none;\n",
              "  }\n",
              "\n",
              "  .colab-df-spinner {\n",
              "    border: 2px solid var(--fill-color);\n",
              "    border-color: transparent;\n",
              "    border-bottom-color: var(--fill-color);\n",
              "    animation:\n",
              "      spin 1s steps(1) infinite;\n",
              "  }\n",
              "\n",
              "  @keyframes spin {\n",
              "    0% {\n",
              "      border-color: transparent;\n",
              "      border-bottom-color: var(--fill-color);\n",
              "      border-left-color: var(--fill-color);\n",
              "    }\n",
              "    20% {\n",
              "      border-color: transparent;\n",
              "      border-left-color: var(--fill-color);\n",
              "      border-top-color: var(--fill-color);\n",
              "    }\n",
              "    30% {\n",
              "      border-color: transparent;\n",
              "      border-left-color: var(--fill-color);\n",
              "      border-top-color: var(--fill-color);\n",
              "      border-right-color: var(--fill-color);\n",
              "    }\n",
              "    40% {\n",
              "      border-color: transparent;\n",
              "      border-right-color: var(--fill-color);\n",
              "      border-top-color: var(--fill-color);\n",
              "    }\n",
              "    60% {\n",
              "      border-color: transparent;\n",
              "      border-right-color: var(--fill-color);\n",
              "    }\n",
              "    80% {\n",
              "      border-color: transparent;\n",
              "      border-right-color: var(--fill-color);\n",
              "      border-bottom-color: var(--fill-color);\n",
              "    }\n",
              "    90% {\n",
              "      border-color: transparent;\n",
              "      border-bottom-color: var(--fill-color);\n",
              "    }\n",
              "  }\n",
              "</style>\n",
              "\n",
              "      <script>\n",
              "        async function quickchart(key) {\n",
              "          const quickchartButtonEl =\n",
              "            document.querySelector('#' + key + ' button');\n",
              "          quickchartButtonEl.disabled = true;  // To prevent multiple clicks.\n",
              "          quickchartButtonEl.classList.add('colab-df-spinner');\n",
              "          try {\n",
              "            const charts = await google.colab.kernel.invokeFunction(\n",
              "                'suggestCharts', [key], {});\n",
              "          } catch (error) {\n",
              "            console.error('Error during call to suggestCharts:', error);\n",
              "          }\n",
              "          quickchartButtonEl.classList.remove('colab-df-spinner');\n",
              "          quickchartButtonEl.classList.add('colab-df-quickchart-complete');\n",
              "        }\n",
              "        (() => {\n",
              "          let quickchartButtonEl =\n",
              "            document.querySelector('#df-583a55e0-12f7-4457-a755-3df070b16edf button');\n",
              "          quickchartButtonEl.style.display =\n",
              "            google.colab.kernel.accessAllowed ? 'block' : 'none';\n",
              "        })();\n",
              "      </script>\n",
              "    </div>\n",
              "\n",
              "    </div>\n",
              "  </div>\n"
            ],
            "application/vnd.google.colaboratory.intrinsic+json": {
              "type": "dataframe",
              "summary": "{\n  \"name\": \"retornos\",\n  \"rows\": 5,\n  \"fields\": [\n    {\n      \"column\": \"Date\",\n      \"properties\": {\n        \"dtype\": \"date\",\n        \"min\": \"2024-03-22 00:00:00\",\n        \"max\": \"2024-03-28 00:00:00\",\n        \"num_unique_values\": 5,\n        \"samples\": [\n          \"2024-03-25 00:00:00\",\n          \"2024-03-28 00:00:00\",\n          \"2024-03-26 00:00:00\"\n        ],\n        \"semantic_type\": \"\",\n        \"description\": \"\"\n      }\n    },\n    {\n      \"column\": \"AAPL\",\n      \"properties\": {\n        \"dtype\": \"number\",\n        \"std\": 0.01325604198004419,\n        \"min\": -0.010559045481797091,\n        \"max\": 0.021212618450333398,\n        \"num_unique_values\": 5,\n        \"samples\": [\n          -0.008300415671985473,\n          -0.010559045481797091,\n          -0.0066725777375230555\n        ],\n        \"semantic_type\": \"\",\n        \"description\": \"\"\n      }\n    },\n    {\n      \"column\": \"AMD\",\n      \"properties\": {\n        \"dtype\": \"number\",\n        \"std\": 0.006665478049563208,\n        \"min\": -0.005677645690651101,\n        \"max\": 0.009669990824309194,\n        \"num_unique_values\": 5,\n        \"samples\": [\n          -0.005677645690651101,\n          0.005011465970410134,\n          -0.004254659042995601\n        ],\n        \"semantic_type\": \"\",\n        \"description\": \"\"\n      }\n    },\n    {\n      \"column\": \"AMZN\",\n      \"properties\": {\n        \"dtype\": \"number\",\n        \"std\": 0.006154875954764405,\n        \"min\": -0.007845994154095037,\n        \"max\": 0.008581036192426339,\n        \"num_unique_values\": 5,\n        \"samples\": [\n          0.004696213001679439,\n          0.0030584610251771505,\n          -0.007845994154095037\n        ],\n        \"semantic_type\": \"\",\n        \"description\": \"\"\n      }\n    },\n    {\n      \"column\": \"GOOGL\",\n      \"properties\": {\n        \"dtype\": \"number\",\n        \"std\": 0.009986910619534344,\n        \"min\": -0.004642735586221747,\n        \"max\": 0.021476958013518344,\n        \"num_unique_values\": 5,\n        \"samples\": [\n          -0.004642735586221747,\n          0.0003975685991683964,\n          0.003998108034505954\n        ],\n        \"semantic_type\": \"\",\n        \"description\": \"\"\n      }\n    },\n    {\n      \"column\": \"META\",\n      \"properties\": {\n        \"dtype\": \"number\",\n        \"std\": 0.008432519736652174,\n        \"min\": -0.016765898266151824,\n        \"max\": 0.0035842947794004765,\n        \"num_unique_values\": 5,\n        \"samples\": [\n          -0.012873363847991426,\n          -0.016765898266151824,\n          -0.014174281297734348\n        ],\n        \"semantic_type\": \"\",\n        \"description\": \"\"\n      }\n    },\n    {\n      \"column\": \"MSFT\",\n      \"properties\": {\n        \"dtype\": \"number\",\n        \"std\": 0.005466466693355534,\n        \"min\": -0.01371451150361147,\n        \"max\": -0.0005217957678191887,\n        \"num_unique_values\": 5,\n        \"samples\": [\n          -0.01371451150361147,\n          -0.0016845302338250878,\n          -0.002861591334925695\n        ],\n        \"semantic_type\": \"\",\n        \"description\": \"\"\n      }\n    },\n    {\n      \"column\": \"NFLX\",\n      \"properties\": {\n        \"dtype\": \"number\",\n        \"std\": 0.01309268541932724,\n        \"min\": -0.024966564715075523,\n        \"max\": 0.00851116507837646,\n        \"num_unique_values\": 5,\n        \"samples\": [\n          -0.0008757627815104696,\n          -0.01010547472979706,\n          0.002836783539009735\n        ],\n        \"semantic_type\": \"\",\n        \"description\": \"\"\n      }\n    },\n    {\n      \"column\": \"NVDA\",\n      \"properties\": {\n        \"dtype\": \"number\",\n        \"std\": 0.023945007025501282,\n        \"min\": -0.025694242356412378,\n        \"max\": 0.031213470301624024,\n        \"num_unique_values\": 5,\n        \"samples\": [\n          0.00756194855142045,\n          0.0011744880591175733,\n          -0.025694242356412378\n        ],\n        \"semantic_type\": \"\",\n        \"description\": \"\"\n      }\n    },\n    {\n      \"column\": \"SONY\",\n      \"properties\": {\n        \"dtype\": \"number\",\n        \"std\": 0.014863266667493734,\n        \"min\": -0.030015862668405058,\n        \"max\": 0.008841325245577458,\n        \"num_unique_values\": 5,\n        \"samples\": [\n          -0.030015862668405058,\n          -0.009244255012050062,\n          0.008841325245577458\n        ],\n        \"semantic_type\": \"\",\n        \"description\": \"\"\n      }\n    },\n    {\n      \"column\": \"TSLA\",\n      \"properties\": {\n        \"dtype\": \"number\",\n        \"std\": 0.02052041651380571,\n        \"min\": -0.022465709302040393,\n        \"max\": 0.029195349264770964,\n        \"num_unique_values\": 5,\n        \"samples\": [\n          0.010536808713131895,\n          -0.022465709302040393,\n          0.029195349264770964\n        ],\n        \"semantic_type\": \"\",\n        \"description\": \"\"\n      }\n    }\n  ]\n}"
            }
          },
          "metadata": {},
          "execution_count": 11
        }
      ],
      "source": [
        "retornos.tail()"
      ]
    },
    {
      "cell_type": "code",
      "execution_count": 12,
      "metadata": {
        "id": "CpwPNmO6Z21k"
      },
      "outputs": [],
      "source": [
        "# Calcula a média\n",
        "media_retornos = retornos.mean()"
      ]
    },
    {
      "cell_type": "code",
      "execution_count": 13,
      "metadata": {
        "id": "AU5_s5yMDElR",
        "outputId": "96bf497f-9039-4b65-efa6-2aa45100d85d",
        "colab": {
          "base_uri": "https://localhost:8080/"
        }
      },
      "outputs": [
        {
          "output_type": "stream",
          "name": "stdout",
          "text": [
            "Média do Retornos Percentuais:\n",
            "Ticker\n",
            "AAPL    -0.001222\n",
            "AMD      0.004937\n",
            "AMZN     0.003223\n",
            "GOOGL    0.001630\n",
            "META     0.006110\n",
            "MSFT     0.002207\n",
            "NFLX     0.004523\n",
            "NVDA     0.011023\n",
            "SONY    -0.001252\n",
            "TSLA    -0.005310\n",
            "dtype: float64\n"
          ]
        }
      ],
      "source": [
        "print(\"Média do Retornos Percentuais:\")\n",
        "print(media_retornos)"
      ]
    },
    {
      "cell_type": "markdown",
      "metadata": {
        "id": "hyEfgVsuZub3"
      },
      "source": [
        "## Simulando Diferentes Combinações de Pesos Para os Ativos do Portfólio"
      ]
    },
    {
      "cell_type": "code",
      "execution_count": 14,
      "metadata": {
        "id": "O4px1Wq7DElR"
      },
      "outputs": [],
      "source": [
        "# Define a semente aleatória para garantir a reprodutibilidade dos resultados\n",
        "np.random.seed(42)"
      ]
    },
    {
      "cell_type": "code",
      "execution_count": 15,
      "metadata": {
        "id": "g2pxeau8DElR"
      },
      "outputs": [],
      "source": [
        "# Define o número de portfólios a serem simulados\n",
        "num_ports = 10000"
      ]
    },
    {
      "cell_type": "code",
      "execution_count": 16,
      "metadata": {
        "id": "hzgZ_dbsDElS"
      },
      "outputs": [],
      "source": [
        "# Inicializa uma matriz para armazenar os pesos de cada ativo nos portfólios\n",
        "all_pesos = np.zeros((num_ports, 10))"
      ]
    },
    {
      "cell_type": "code",
      "execution_count": 17,
      "metadata": {
        "id": "DssQWjxbDElS"
      },
      "outputs": [],
      "source": [
        "# Inicializa um array para armazenar os retornos esperados de cada portfólio\n",
        "ret_arr = np.zeros(num_ports)"
      ]
    },
    {
      "cell_type": "code",
      "execution_count": 18,
      "metadata": {
        "id": "2zP5SwJrDElS"
      },
      "outputs": [],
      "source": [
        "# Inicializa um array para armazenar a volatilidade (risco) de cada portfólio\n",
        "vol_arr = np.zeros(num_ports)"
      ]
    },
    {
      "cell_type": "code",
      "execution_count": 19,
      "metadata": {
        "id": "iuRtvHK6DElS"
      },
      "outputs": [],
      "source": [
        "# Inicializa um array para armazenar a relação Sharpe de cada portfólio\n",
        "sharpe_arr = np.zeros(num_ports)"
      ]
    },
    {
      "cell_type": "code",
      "execution_count": 20,
      "metadata": {
        "id": "LAzWIMxGDElS"
      },
      "outputs": [],
      "source": [
        "# Calcula a matriz de covariância\n",
        "cov_matrix = retornos.cov()"
      ]
    },
    {
      "cell_type": "markdown",
      "metadata": {
        "id": "SK_mWiAxDElS"
      },
      "source": [
        "Uma matriz de covariância é uma ferramenta estatística que mede a covariância (ou seja, a medida de como duas variáveis mudam conjuntamente) entre pares de variáveis em um conjunto de dados. Em outras palavras, ela ajuda a entender como duas variáveis se movem em relação uma à outra. No contexto de finanças, por exemplo, é frequentemente usada para analisar como os retornos de diferentes ativos se movem juntos, o que é fundamental para a diversificação e gestão de risco de portfólios de investimento."
      ]
    },
    {
      "cell_type": "markdown",
      "metadata": {
        "id": "bSync3fNDElS"
      },
      "source": [
        "## Calculando Retorno Esperado, Volatilidade e Índice de Sharpe"
      ]
    },
    {
      "cell_type": "code",
      "execution_count": 21,
      "metadata": {
        "id": "x27QM-pva1jD"
      },
      "outputs": [],
      "source": [
        "# Loop para calcular retorno esperado, volatilidade esperada e Sharpe Ratio\n",
        "for x in range(num_ports):\n",
        "\n",
        "    # Define os pesos\n",
        "    pesos = np.array(np.random.random(10))\n",
        "    pesos = pesos / np.sum(pesos)\n",
        "\n",
        "    # Salva os pesos\n",
        "    all_pesos[x,:] = pesos\n",
        "\n",
        "    # Retorno esperado\n",
        "    ret_arr[x] = np.sum((media_retornos * pesos * len(retornos)))\n",
        "\n",
        "    # Volatilidade esperada\n",
        "    vol_arr[x] = np.sqrt(np.dot(pesos.T, np.dot(cov_matrix * len(retornos), pesos)))\n",
        "\n",
        "    # Sharpe Ratio\n",
        "    sharpe_arr[x] = ret_arr[x] / vol_arr[x]"
      ]
    },
    {
      "cell_type": "markdown",
      "metadata": {
        "id": "nGoGVGXQDElS"
      },
      "source": [
        "O loop acima itera por um número definido de portfólios (num_ports), simulando diferentes combinações de pesos para os ativos de cada portfólio, calculando e armazenando suas características principais: retorno esperado, volatilidade e relação Sharpe.\n",
        "\n",
        "Para cada portfólio (x) dentre o total especificado (num_ports), realiza os seguintes passos:\n",
        "\n",
        "**Geração de Pesos**: Gera um conjunto aleatório de pesos para 10 ativos em um portfólio. Esses pesos são normalizados para que a soma seja 1, garantindo que o total investido seja distribuído proporcionalmente entre os 10 ativos.\n",
        "\n",
        "**Armazenamento de Pesos**: Salva os pesos gerados na matriz all_pesos, que mantém um registro dos pesos de cada ativo para cada simulação de portfólio.\n",
        "\n",
        "**Cálculo do Retorno Esperado**: Calcula o retorno esperado do portfólio multiplicando os retornos médios de cada ativo (media_retornos) pelos pesos e pelo número de retorno (len(retornos)). O resultado é armazenado em ret_arr.\n",
        "\n",
        "**Cálculo da Volatilidade Esperada**: Utiliza a matriz de covariância dos retornos dos ativos (retornos.cov()) para calcular a volatilidade esperada do portfólio. A matriz de covariância é ajustada pelo número de períodos de retorno e a volatilidade é calculada como a raiz quadrada da variância do portfólio, que é obtida através do produto matricial dos pesos pelo quadrado da matriz de covariância. O resultado é armazenado em vol_arr.\n",
        "\n",
        "**Cálculo da Relação Sharpe**: Calcula a relação Sharpe para cada portfólio como o quociente entre seu retorno esperado e sua volatilidade. Este valor, armazenado em sharpe_arr, mede o retorno ajustado ao risco de cada portfólio, permitindo identificar aqueles que oferecem o melhor retorno por unidade de risco assumido."
      ]
    },
    {
      "cell_type": "markdown",
      "metadata": {
        "id": "bp06aIVMDElT"
      },
      "source": [
        "## Interpretando o Sharpe Ratio Máximo"
      ]
    },
    {
      "cell_type": "code",
      "execution_count": 22,
      "metadata": {
        "id": "Y0kO-PqJDElT",
        "outputId": "750f637e-2c76-4529-bcf1-f9713eb3d9d1",
        "colab": {
          "base_uri": "https://localhost:8080/"
        }
      },
      "outputs": [
        {
          "output_type": "execute_result",
          "data": {
            "text/plain": [
              "array([[0.07200801, 0.18278161, 0.14073106, 0.11509637, 0.0299957 ,\n",
              "        0.02999106, 0.01116699, 0.16652855, 0.11556865, 0.13613201],\n",
              "       [0.00520773, 0.24538041, 0.21060217, 0.05372031, 0.04600045,\n",
              "        0.04640006, 0.07697116, 0.13275971, 0.10927907, 0.07367894],\n",
              "       [0.15281528, 0.03483974, 0.07296552, 0.09150188, 0.11390722,\n",
              "        0.19610414, 0.04987017, 0.12843427, 0.1479604 , 0.01160137],\n",
              "       [0.11929704, 0.03348399, 0.01277348, 0.18632243, 0.18961076,\n",
              "        0.15873628, 0.05981372, 0.01917882, 0.13435547, 0.086428  ],\n",
              "       [0.03016589, 0.12239978, 0.00850029, 0.22476941, 0.06396626,\n",
              "        0.16376487, 0.07704997, 0.12855247, 0.135138  , 0.04569305]])"
            ]
          },
          "metadata": {},
          "execution_count": 22
        }
      ],
      "source": [
        "# 5 primeiras linhas de Pesos\n",
        "all_pesos[:5]"
      ]
    },
    {
      "cell_type": "code",
      "execution_count": 23,
      "metadata": {
        "id": "-gxoprXRDElT",
        "outputId": "350b0db3-4cf9-45d3-d71f-4cb20c34ae23",
        "colab": {
          "base_uri": "https://localhost:8080/"
        }
      },
      "outputs": [
        {
          "output_type": "execute_result",
          "data": {
            "text/plain": [
              "array([0.16342584, 0.21830918, 0.17356893, 0.10368532, 0.1840368 ])"
            ]
          },
          "metadata": {},
          "execution_count": 23
        }
      ],
      "source": [
        "# 5 primeiros Retornos\n",
        "ret_arr[:5]"
      ]
    },
    {
      "cell_type": "code",
      "execution_count": 24,
      "metadata": {
        "id": "OSa_HsxaDElT",
        "outputId": "ea76d1e4-084b-408e-8e2e-dc02714f787a",
        "colab": {
          "base_uri": "https://localhost:8080/"
        }
      },
      "outputs": [
        {
          "output_type": "execute_result",
          "data": {
            "text/plain": [
              "array([0.12003666, 0.12999776, 0.09880278, 0.09694651, 0.10589474])"
            ]
          },
          "metadata": {},
          "execution_count": 24
        }
      ],
      "source": [
        "# 5 primeiros valores de Volatilidade\n",
        "vol_arr[:5]"
      ]
    },
    {
      "cell_type": "code",
      "execution_count": 25,
      "metadata": {
        "id": "S4ARfcnMDElT",
        "outputId": "c1c6f6d6-be40-49c4-ca4e-795f1b60636b",
        "colab": {
          "base_uri": "https://localhost:8080/"
        }
      },
      "outputs": [
        {
          "output_type": "execute_result",
          "data": {
            "text/plain": [
              "array([1.36146607, 1.6793303 , 1.7567211 , 1.06951067, 1.73792195])"
            ]
          },
          "metadata": {},
          "execution_count": 25
        }
      ],
      "source": [
        "# 5 primeiros valores de Sharpe Ratio\n",
        "sharpe_arr[:5]"
      ]
    },
    {
      "cell_type": "code",
      "execution_count": 26,
      "metadata": {
        "id": "oaQ-7Sg3DElT",
        "outputId": "94af02b6-b1ac-438d-a6f0-b4102237368d",
        "colab": {
          "base_uri": "https://localhost:8080/"
        }
      },
      "outputs": [
        {
          "output_type": "stream",
          "name": "stdout",
          "text": [
            "Sharpe Ratio Máximo: 2.5309197202108473\n"
          ]
        }
      ],
      "source": [
        "print(\"Sharpe Ratio Máximo:\", sharpe_arr.max())"
      ]
    },
    {
      "cell_type": "markdown",
      "metadata": {
        "id": "FZhJtgwbDElT"
      },
      "source": [
        "O valor de Sharpe Ratio Máximo indica que o melhor portfólio simulado, dentre as combinações testadas, oferece um retorno ajustado ao risco excepcionalmente alto.\n",
        "\n",
        "A Relação Sharpe é uma métrica que avalia o desempenho ajustado ao risco de um investimento, comparando seu retorno em excesso (o retorno além da taxa livre de risco) com sua volatilidade.\n",
        "\n",
        "Uma Relação Sharpe:\n",
        "\n",
        "- Maior que 1 é considerada boa, indicando que o retorno em excesso do investimento compensa adequadamente pelo risco assumido.\n",
        "- Maior que 2 é considerada muito boa, sugerindo que o investimento oferece um retorno em excesso significativamente maior por cada unidade de risco.\n",
        "- Maior que 3 é considerada excepcional, indicando um investimento de alta performance em termos de retorno ajustado ao risco.\n",
        "\n",
        "Assim, um valor acima coloca o portfólio no patamar de desempenho \"muito bom\", demonstrando que, para cada unidade de risco assumido, o portfólio gera um retorno substancialmente maior em comparação com portfólios de menor relação Sharpe.\n",
        "\n",
        "Este é um indicativo de que a combinação de ativos deste portfólio específico, juntamente com a distribuição de seus pesos, foi otimizada de forma eficaz para maximizar o retorno ajustado ao risco. Investidores que buscam um equilíbrio entre risco e retorno podem considerar esse portfólio como uma opção atrativa, dada sua alta eficiência em termos de performance ajustada ao risco."
      ]
    },
    {
      "cell_type": "markdown",
      "metadata": {
        "id": "mskTI_4xDElU"
      },
      "source": [
        "## Melhores Pesos Atribuídos a Cada Ativo Financeiro com Base no Sharpe Ratio"
      ]
    },
    {
      "cell_type": "code",
      "execution_count": 27,
      "metadata": {
        "id": "h_WH2MEuDElU"
      },
      "outputs": [],
      "source": [
        "# Extrai o valor máximo\n",
        "indice = sharpe_arr.argmax()"
      ]
    },
    {
      "cell_type": "code",
      "execution_count": 28,
      "metadata": {
        "id": "yI_cOwIIDElf"
      },
      "outputs": [],
      "source": [
        "# Inicializa o contador\n",
        "contador = 0"
      ]
    },
    {
      "cell_type": "code",
      "execution_count": 29,
      "metadata": {
        "id": "dHM2ayOaDElf",
        "outputId": "e2bcb3d2-3179-4bc5-eead-7dbf05d356c6",
        "colab": {
          "base_uri": "https://localhost:8080/"
        }
      },
      "outputs": [
        {
          "output_type": "stream",
          "name": "stdout",
          "text": [
            "Peso Atribuído a AAPL :  0.006\n",
            "Peso Atribuído a AMD :  0.03\n",
            "Peso Atribuído a AMZN :  0.087\n",
            "Peso Atribuído a GOOGL :  0.029\n",
            "Peso Atribuído a META :  0.268\n",
            "Peso Atribuído a MSFT :  0.02\n",
            "Peso Atribuído a NFLX :  0.266\n",
            "Peso Atribuído a NVDA :  0.255\n",
            "Peso Atribuído a SONY :  0.031\n",
            "Peso Atribuído a TSLA :  0.008\n"
          ]
        }
      ],
      "source": [
        "# Inicia um loop para iterar através da lista de símbolos de ações\n",
        "for i in ('AAPL', 'AMD', 'AMZN', 'GOOGL', 'META', 'MSFT', 'NFLX', 'NVDA', 'SONY', 'TSLA'):\n",
        "\n",
        "    # Imprime o peso atribuído a cada símbolo de ação no portfólio, arredondando para 3 casas decimais\n",
        "    print(\"Peso Atribuído a\", i, \": \", round(all_pesos[indice,:][contador], 3))\n",
        "\n",
        "    # Incrementa o contador para avançar para o próximo peso na lista de pesos do portfólio\n",
        "    contador += 1"
      ]
    },
    {
      "cell_type": "code",
      "execution_count": 30,
      "metadata": {
        "id": "L6Gt4MyPDElf",
        "outputId": "dbd331af-beda-4d4c-8ccd-f148d583694e",
        "colab": {
          "base_uri": "https://localhost:8080/"
        }
      },
      "outputs": [
        {
          "output_type": "stream",
          "name": "stdout",
          "text": [
            "Soma dos Pesos: 0.9999999999999999\n"
          ]
        }
      ],
      "source": [
        "print(\"Soma dos Pesos:\", sum(all_pesos[indice,:]))"
      ]
    },
    {
      "cell_type": "markdown",
      "metadata": {
        "id": "RRAjlw23DElf"
      },
      "source": [
        "## Gráfico de Retorno x Risco x Sharpe Ratio"
      ]
    },
    {
      "cell_type": "code",
      "execution_count": 31,
      "metadata": {
        "id": "-5cDTH4sDElf"
      },
      "outputs": [],
      "source": [
        "# Extrai os valores máximos\n",
        "max_sr_ret = ret_arr[indice]\n",
        "max_sr_vol = vol_arr[indice]"
      ]
    },
    {
      "cell_type": "code",
      "execution_count": 32,
      "metadata": {
        "id": "qLC61zvcDElg",
        "outputId": "9afa8320-30a4-424b-9d13-5b3faf7728b9",
        "colab": {
          "base_uri": "https://localhost:8080/"
        }
      },
      "outputs": [
        {
          "output_type": "execute_result",
          "data": {
            "text/plain": [
              "np.float64(0.36475332419055345)"
            ]
          },
          "metadata": {},
          "execution_count": 32
        }
      ],
      "source": [
        "max_sr_ret"
      ]
    },
    {
      "cell_type": "code",
      "execution_count": 33,
      "metadata": {
        "id": "8HWQ7MJkDElg",
        "outputId": "7d7c01b1-3e10-49cc-f5e1-098335953208",
        "colab": {
          "base_uri": "https://localhost:8080/"
        }
      },
      "outputs": [
        {
          "output_type": "execute_result",
          "data": {
            "text/plain": [
              "np.float64(0.14411888345481239)"
            ]
          },
          "metadata": {},
          "execution_count": 33
        }
      ],
      "source": [
        "max_sr_vol"
      ]
    },
    {
      "cell_type": "code",
      "execution_count": 34,
      "metadata": {
        "colab": {
          "base_uri": "https://localhost:8080/",
          "height": 542
        },
        "id": "mXBkFsKCcKdF",
        "outputId": "549c8445-79c4-4ea0-ad3a-01ffcff04a1f"
      },
      "outputs": [
        {
          "output_type": "display_data",
          "data": {
            "text/plain": [
              "<Figure size 1200x600 with 2 Axes>"
            ],
            "image/png": "[encoded data removed]"
          },
          "metadata": {}
        }
      ],
      "source": [
        "# Plot\n",
        "plt.figure(figsize = (12,6))\n",
        "plt.scatter(vol_arr, ret_arr, c = sharpe_arr, cmap = 'magma')\n",
        "plt.colorbar(label = 'Sharpe Ratio')\n",
        "plt.xlabel('Risco')\n",
        "plt.ylabel('Retorno')\n",
        "plt.scatter(max_sr_vol, max_sr_ret, c = 'blue', s = 50, label = 'Max Sharpe Ratio')\n",
        "plt.legend()\n",
        "plt.show()"
      ]
    },
    {
      "cell_type": "markdown",
      "metadata": {
        "id": "JIVAAbgmDElg"
      },
      "source": [
        "Fizemos o processo manualmente. Agora vamos automatizá-lo para encontrar os melhores valores de pesos que geram o maior valor de Sharpe Ratio."
      ]
    },
    {
      "cell_type": "markdown",
      "metadata": {
        "id": "yrDpkrzFeECd"
      },
      "source": [
        "## Teoria da Média-Variância Para Construir a Fronteira Eficiente"
      ]
    },
    {
      "cell_type": "code",
      "execution_count": 35,
      "metadata": {
        "id": "81PDKUT4cnds"
      },
      "outputs": [],
      "source": [
        "# Define uma função para calcular o retorno, volatilidade e relação Sharpe de um portfólio com base nos pesos\n",
        "def dsa_get_ret_vol_sr(weights):\n",
        "\n",
        "    # Converte os pesos de entrada para um array NumPy para facilitar cálculos matemáticos\n",
        "    weights = np.array(weights)\n",
        "\n",
        "    # Calcula o retorno esperado do portfólio, multiplicando os retornos médios dos ativos\n",
        "    # pelos pesos e pelo número de períodos de retorno\n",
        "    ret = np.sum(media_retornos * weights) * len(retornos)\n",
        "\n",
        "    # Calcula a volatilidade do portfólio, que é a raiz quadrada do produto matricial dos pesos\n",
        "    # pelo quadrado da matriz de covariância ajustada pelo número de períodos de retorno\n",
        "    vol = np.sqrt(np.dot(weights.T, np.dot(cov_matrix * len(retornos), weights)))\n",
        "\n",
        "    # Calcula a relação Sharpe do portfólio, dividindo o retorno pelo nível de volatilidade\n",
        "    sr = ret / vol\n",
        "\n",
        "    # Retorna um array NumPy contendo o retorno esperado, volatilidade e relação Sharpe do portfólio\n",
        "    return np.array([ret, vol, sr])"
      ]
    },
    {
      "cell_type": "markdown",
      "metadata": {
        "id": "it-u3p0fDElg"
      },
      "source": [
        "Para maximizar o índice de sharpe positivo, temos que minimizar o negativo do índice de sharpe porque a função de otimização funciona apenas no valor mínimo de uma função. Isso é essencialmente o que fazemos em qualquer modelo de IA."
      ]
    },
    {
      "cell_type": "code",
      "execution_count": 36,
      "metadata": {
        "id": "Bhz5rZ_NDElh"
      },
      "outputs": [],
      "source": [
        "# Define uma função para calcular o negativo da relação Sharpe de um portfólio,\n",
        "# que é usada como função objetivo em processos de otimização\n",
        "def dsa_neg_sharpe(weights):\n",
        "\n",
        "    # Chama a função get_ret_vol_sr para os pesos fornecidos,\n",
        "    # obtém a relação Sharpe (índice [2] do array retornado)\n",
        "    # e multiplica por -1 para torná-la negativa\n",
        "    return dsa_get_ret_vol_sr(weights)[2] * -1"
      ]
    },
    {
      "cell_type": "code",
      "execution_count": 37,
      "metadata": {
        "id": "O0-SrDrGDElh"
      },
      "outputs": [],
      "source": [
        "# Define uma função para verificar se a soma dos pesos dos ativos em um portfólio é igual a 1,\n",
        "# o que é uma restrição comum em otimização de portfólio\n",
        "def dsa_check_sum(weights):\n",
        "\n",
        "    # Retorna a diferença entre a soma dos pesos fornecidos e 1, o resultado deve ser 0 se os pesos\n",
        "    # somarem exatamente 1\n",
        "    return np.sum(weights) - 1"
      ]
    },
    {
      "cell_type": "markdown",
      "metadata": {
        "id": "piwb0NovdauU"
      },
      "source": [
        "## Definindo as Restrições do Problema de Otimização"
      ]
    },
    {
      "cell_type": "code",
      "execution_count": 38,
      "metadata": {
        "id": "zfIbCqBLc005"
      },
      "outputs": [],
      "source": [
        "# Define uma restrição de igualdade para garantir que a soma dos pesos dos ativos no portfólio seja igual a 1\n",
        "cons = ({'type': 'eq', 'fun': dsa_check_sum})"
      ]
    },
    {
      "cell_type": "code",
      "execution_count": 39,
      "metadata": {
        "id": "AgHZpFSjDElh"
      },
      "outputs": [],
      "source": [
        "# Define os limites para cada peso do portfólio,\n",
        "# estabelecendo que cada peso pode variar entre 0.0 (0%) e 1.0 (100%)\n",
        "limite = (0.0, 1.0)"
      ]
    },
    {
      "cell_type": "code",
      "execution_count": 40,
      "metadata": {
        "id": "U0FQeD3hDElh"
      },
      "outputs": [],
      "source": [
        "# Cria uma tupla de limites para cada um dos 10 ativos no portfólio, aplicando o limite definido acima a cada um\n",
        "limites = tuple(limite for asset in range(10))"
      ]
    },
    {
      "cell_type": "code",
      "execution_count": 41,
      "metadata": {
        "id": "IiWBmevjDElh"
      },
      "outputs": [],
      "source": [
        "# Define um palpite inicial para os pesos dos ativos no portfólio, começando com 10% para cada um dos 10 ativos\n",
        "init_guess = [0.1 for i in range(10)]"
      ]
    },
    {
      "cell_type": "markdown",
      "metadata": {
        "id": "hHGhWRLHDElh"
      },
      "source": [
        "## Otimização com SLSQP (Sequential Least Squares Programming)\n",
        "\n",
        "Veja a descrição de SLSQP no videobook do Capítulo 6."
      ]
    },
    {
      "cell_type": "code",
      "execution_count": 42,
      "metadata": {
        "id": "nKxToDTDDEli"
      },
      "outputs": [],
      "source": [
        "# Utiliza a função minimize do scipy.optimize para encontrar os pesos dos ativos que minimizam\n",
        "# a negação da relação Sharpe, indicando a otimização do portfólio para o máximo retorno ajustado ao risco.\n",
        "# Usa o método 'SLSQP' (Sequential Least Squares Programming), limites para cada peso do ativo\n",
        "# e a restrição de que a soma dos pesos deve ser igual a 1.\n",
        "resultado_otimizacao = minimize(dsa_neg_sharpe,\n",
        "                                init_guess,\n",
        "                                method = 'SLSQP',\n",
        "                                bounds = limites,\n",
        "                                constraints = cons)"
      ]
    },
    {
      "cell_type": "code",
      "execution_count": 43,
      "metadata": {
        "id": "nt5pqzaQDEli",
        "outputId": "f8306d9b-7383-4211-f52f-1f83f33953e8",
        "colab": {
          "base_uri": "https://localhost:8080/"
        }
      },
      "outputs": [
        {
          "output_type": "stream",
          "name": "stdout",
          "text": [
            "     message: Optimization terminated successfully\n",
            "     success: True\n",
            "      status: 0\n",
            "         fun: -2.8801450222231644\n",
            "           x: [ 0.000e+00  0.000e+00  5.118e-16  6.779e-16  8.282e-02\n",
            "                3.819e-16  3.970e-01  5.202e-01  4.828e-16  0.000e+00]\n",
            "         nit: 9\n",
            "         jac: [ 7.378e-01  1.334e+00  1.903e-01  3.830e-02  4.655e-04\n",
            "                1.211e-01  1.376e-04 -1.790e-04  9.091e-01  2.425e+00]\n",
            "        nfev: 101\n",
            "        njev: 9\n",
            " multipliers: [-9.548e-05]\n"
          ]
        }
      ],
      "source": [
        "print(resultado_otimizacao)"
      ]
    },
    {
      "cell_type": "markdown",
      "metadata": {
        "id": "ghpHbBEwDEli"
      },
      "source": [
        "Os resultados da otimização indicam um sucesso na busca pelos pesos ótimos dos ativos em um portfólio que maximiza a relação Sharpe, ajustando-se pelo risco. Aqui está o que cada elemento do resultado significa:\n",
        "\n",
        "**message: \"Optimization terminated successfully\"** - A otimização terminou com sucesso, o que significa que o processo de otimização encontrou uma solução sem enfrentar erros significativos.\n",
        "\n",
        "**success: True** - Confirma que a otimização foi bem-sucedida.\n",
        "\n",
        "**status: 0** - Um código de status de 0 geralmente indica uma conclusão bem-sucedida do algoritmo de otimização.\n",
        "\n",
        "**fun**: O valor da função objetivo (negativo da relação Sharpe) no ótimo encontrado. O valor negativo é usado por convenção na otimização para transformar um problema de maximização (maximizar a relação Sharpe) em minimização (minimizar o negativo da relação Sharpe). O valor real da relação Sharpe é o positivo deste número.\n",
        "\n",
        "**x:** Array que mostra a distribuição de pesos ótimos para cada um dos 10 ativos no portfólio. Valores próximos a zero indicam que o ativo correspondente tem pouca ou nenhuma participação no portfólio otimizado.\n",
        "\n",
        "**nit:** O número de iterações do algoritmo até encontrar a solução ótima.\n",
        "\n",
        "**jac**: Array que mostra o gradiente da função objetivo (negativo da relação Sharpe) em relação aos pesos no ponto ótimo. Esses valores ajudam a entender a sensibilidade da relação Sharpe a mudanças nos pesos dos ativos próximos ao ótimo.\n",
        "\n",
        "**nfev:** O número de avaliações da função objetivo que o algoritmo realizou. Isso dá uma ideia do esforço computacional envolvido.\n",
        "\n",
        "**njev:** O número de avaliações do jacobiano (ou gradiente) da função objetivo, indicando quantas vezes o gradiente foi calculado durante a otimização.\n",
        "\n",
        "Interpretando estes resultados, você pode concluir que a otimização foi bem-sucedida e resultou em um portfólio que maximiza a relação Sharpe, indicando um alto retorno ajustado ao risco. A distribuição de pesos sugere uma concentração do investimento em poucos ativos espcificamente, com os demais ativos recebendo pouca ou nenhuma alocação."
      ]
    },
    {
      "cell_type": "markdown",
      "metadata": {
        "id": "huWV4bJrDEli"
      },
      "source": [
        "## Construção, Plot e Interpretação da Fronteira Eficiente"
      ]
    },
    {
      "cell_type": "code",
      "execution_count": 44,
      "metadata": {
        "colab": {
          "base_uri": "https://localhost:8080/"
        },
        "id": "XEDrL2mOdtZD",
        "outputId": "47cf8136-7dd6-460a-b33f-7384f0fe61c2"
      },
      "outputs": [
        {
          "output_type": "execute_result",
          "data": {
            "text/plain": [
              "array([0.00000000e+00, 0.00000000e+00, 5.11760565e-16, 6.77884418e-16,\n",
              "       8.28203352e-02, 3.81932013e-16, 3.96986496e-01, 5.20193169e-01,\n",
              "       4.82849199e-16, 0.00000000e+00])"
            ]
          },
          "metadata": {},
          "execution_count": 44
        }
      ],
      "source": [
        "# Extraindo os valores de x (melhores pesos)\n",
        "resultado_otimizacao.x"
      ]
    },
    {
      "cell_type": "code",
      "execution_count": 45,
      "metadata": {
        "id": "3wt5DBUODEli",
        "outputId": "d48237c4-242a-44d9-88c3-7813512ad1de",
        "colab": {
          "base_uri": "https://localhost:8080/"
        }
      },
      "outputs": [
        {
          "output_type": "execute_result",
          "data": {
            "text/plain": [
              "array([0.48214792, 0.16740404, 2.88014502])"
            ]
          },
          "metadata": {},
          "execution_count": 45
        }
      ],
      "source": [
        "# Aplica a função e calcula retorno, volatilidade e sharpe ratio\n",
        "dsa_get_ret_vol_sr(resultado_otimizacao.x)"
      ]
    },
    {
      "cell_type": "code",
      "execution_count": 46,
      "metadata": {
        "id": "cvxt-LeWDEli"
      },
      "outputs": [],
      "source": [
        "# Define os valores para as coordenadas da fronteira em y\n",
        "frontier_y = np.linspace(0.0, 0.60, num = 200)"
      ]
    },
    {
      "cell_type": "code",
      "execution_count": 47,
      "metadata": {
        "id": "vkSip9DODElj"
      },
      "outputs": [],
      "source": [
        "# Função para retornar a volatilidade\n",
        "def dsa_retorna_volatilidade(weights):\n",
        "    return dsa_get_ret_vol_sr(weights)[1]"
      ]
    },
    {
      "cell_type": "markdown",
      "metadata": {
        "id": "HWSEBgZfDElj"
      },
      "source": [
        "A função acima é definida para retornar a volatilidade do portfólio de investimentos, que é calculada com base nos pesos dos ativos dentro desse portfólio. Essa função utiliza outra função chamada dsa_get_ret_vol_sr(weights), que calcula três características importantes de um portfólio com base nos pesos dos ativos: o retorno esperado do portfólio ([0]), a volatilidade do portfólio ([1]) e a relação Sharpe do portfólio ([2]). A função dsa_minimize_volatility() é focada especificamente na volatilidade, por isso retorna o segundo elemento do array resultante da função dsa_get_ret_vol_sr, correspondente à volatilidade ([1])."
      ]
    },
    {
      "cell_type": "code",
      "execution_count": 48,
      "metadata": {
        "id": "sFW-dDPwDElj"
      },
      "outputs": [],
      "source": [
        "# Lista para os valores das coordenadas da fronteira em x\n",
        "frontier_x = []"
      ]
    },
    {
      "cell_type": "code",
      "execution_count": 49,
      "metadata": {
        "id": "o8qqzOGpdnqb"
      },
      "outputs": [],
      "source": [
        "# Inicia um loop para iterar por uma lista de retornos esperados (frontier_y),\n",
        "# que faz parte da construção da fronteira eficiente\n",
        "for retorno_possivel in frontier_y:\n",
        "\n",
        "    # Define restrições para a otimização: uma garante que a soma dos pesos seja 1 (check_sum)\n",
        "    # e a outra garante que o retorno esperado do portfólio seja igual ao retorno possível atual na iteração\n",
        "    cons = ({'type':'eq', 'fun': dsa_check_sum},\n",
        "            {'type':'eq', 'fun': lambda w: dsa_get_ret_vol_sr(w)[0] - retorno_possivel})\n",
        "\n",
        "    # Realiza a otimização para minimizar a volatilidade (risco) do portfólio sob as restrições definidas,\n",
        "    # usando um palpite inicial (init_guess), método 'SLSQP', limites definidos para os pesos (bounds)\n",
        "    # e as restrições (cons)\n",
        "    resultado = minimize(dsa_retorna_volatilidade,\n",
        "                         init_guess,method = 'SLSQP',\n",
        "                         bounds = limites,\n",
        "                         constraints = cons)\n",
        "\n",
        "    # Após a otimização, adiciona o resultado (valor mínimo da função, que é a volatilidade mínima para o\n",
        "    # retorno dado) à lista frontier_x, que representa as volatilidades na fronteira eficiente para os retornos\n",
        "    # especificados em frontier_y\n",
        "    frontier_x.append(resultado['fun'])"
      ]
    },
    {
      "cell_type": "code",
      "execution_count": 50,
      "metadata": {
        "colab": {
          "base_uri": "https://localhost:8080/",
          "height": 712
        },
        "id": "zEoxwtmPeKGi",
        "outputId": "963392bf-0193-4d0b-d477-14581d6493fc"
      },
      "outputs": [
        {
          "output_type": "display_data",
          "data": {
            "text/plain": [
              "<Figure size 1200x800 with 2 Axes>"
            ],
            "image/png": "[encoded data removed]"
          },
          "metadata": {}
        }
      ],
      "source": [
        "# Plot\n",
        "plt.figure(figsize = (12,8))\n",
        "plt.scatter(vol_arr, ret_arr, c = sharpe_arr, cmap = 'viridis')\n",
        "plt.colorbar(label = 'Sharpe Ratio')\n",
        "plt.xlabel('\\nRisco')\n",
        "plt.ylabel('\\nRetorno')\n",
        "plt.plot(frontier_x, frontier_y, 'r--', linewidth = 3)\n",
        "plt.show()"
      ]
    },
    {
      "cell_type": "markdown",
      "metadata": {
        "id": "CYW-wGogeiuw"
      },
      "source": [
        "Conforme visto no gráfico acima, o retorno máximo que podemos obter é de cerca de 0,6 com um risco de cerca de 0,22 e o retorno mínimo que podemos obter é de cerca de 0,01 com um risco de cerca de 0,05.\n",
        "\n",
        "Agora precisamos definir quanto alocar de cada asset financeiro em nosso portfólio para obter o maior retorno possível."
      ]
    },
    {
      "cell_type": "markdown",
      "metadata": {
        "id": "tI4Q_dtwDElj"
      },
      "source": [
        "# Continuaremos no Próximo Capítulo"
      ]
    },
    {
      "cell_type": "code",
      "execution_count": 51,
      "metadata": {
        "id": "lH23j7d-DElk",
        "outputId": "0a890454-8b9e-4576-b44c-7ac3250c0245",
        "colab": {
          "base_uri": "https://localhost:8080/"
        }
      },
      "outputs": [
        {
          "output_type": "stream",
          "name": "stdout",
          "text": [
            "Author: Data Science Academy\n",
            "\n"
          ]
        }
      ],
      "source": [
        "%watermark -a \"Data Science Academy\""
      ]
    },
    {
      "cell_type": "code",
      "execution_count": 52,
      "metadata": {
        "id": "C3itEHbYDElk"
      },
      "outputs": [],
      "source": [
        "#%watermark -v -m"
      ]
    },
    {
      "cell_type": "code",
      "execution_count": 53,
      "metadata": {
        "id": "c_SXi6VkDElk"
      },
      "outputs": [],
      "source": [
        "#%watermark --iversions"
      ]
    },
    {
      "cell_type": "markdown",
      "metadata": {
        "id": "KD__SNp-DElk"
      },
      "source": [
        "# Fim"
      ]
    }
  ],
  "metadata": {
    "colab": {
      "collapsed_sections": [
        "Cs9uUybchqiu",
        "Wu-tHq2EZGUZ",
        "yrDpkrzFeECd",
        "1U1_TSyGe_L-",
        "xzrgPsxObe2G"
      ],
      "provenance": [],
      "gpuType": "T4",
      "include_colab_link": true
    },
    "kernelspec": {
      "display_name": "Python 3",
      "name": "python3"
    },
    "language_info": {
      "codemirror_mode": {
        "name": "ipython",
        "version": 3
      },
      "file_extension": ".py",
      "mimetype": "text/x-python",
      "name": "python",
      "nbconvert_exporter": "python",
      "pygments_lexer": "ipython3",
      "version": "3.12.11"
    },
    "accelerator": "GPU"
  },
  "nbformat": 4,
  "nbformat_minor": 0
}